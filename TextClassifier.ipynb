{
 "cells": [
  {
   "cell_type": "markdown",
   "metadata": {},
   "source": [
    "<h1></h1> "
   ]
  },
  {
   "cell_type": "markdown",
   "metadata": {},
   "source": [
    "<center> \n",
    "    <h1>Simple Text Classifier</h1>\n",
    "    <h2>by: Elder Vicente de Paulo Sobrinho</h1>\n",
    "    <h3>UFTM</h3>\n",
    "</center>"
   ]
  },
  {
   "cell_type": "markdown",
   "metadata": {},
   "source": [
    "<h1></h1> "
   ]
  },
  {
   "cell_type": "markdown",
   "metadata": {},
   "source": [
    "<h1></h1> "
   ]
  },
  {
   "cell_type": "markdown",
   "metadata": {},
   "source": [
    "<h1></h1> "
   ]
  },
  {
   "cell_type": "markdown",
   "metadata": {},
   "source": [
    "<h1></h1> "
   ]
  },
  {
   "cell_type": "markdown",
   "metadata": {},
   "source": [
    "<h1></h1> "
   ]
  },
  {
   "cell_type": "markdown",
   "metadata": {},
   "source": [
    "<h1></h1> "
   ]
  },
  {
   "cell_type": "markdown",
   "metadata": {},
   "source": [
    "<h1></h1> "
   ]
  },
  {
   "cell_type": "markdown",
   "metadata": {},
   "source": [
    "<center> \n",
    "    <h1>AI - Artificial Intelligenca</h1> \n",
    "</center>\n",
    "\n",
    "<p align=\"center\">\n",
    "  <img src=\"https://cdn.app.compendium.com/uploads/user/e7c690e8-6ff9-102a-ac6d-e4aebca50425/f0499405-1197-4b43-b7c5-40548eeb9f34/Image/5f0b569126b3f2da0538b3ce34bd89d2/difference_between_ai__machine_learning_and_deep_learning.png\" alt=\"\" width=\"95%\"/>\n",
    "</p>"
   ]
  },
  {
   "cell_type": "markdown",
   "metadata": {},
   "source": [
    "<h1></h1> "
   ]
  },
  {
   "cell_type": "markdown",
   "metadata": {},
   "source": [
    "<h1></h1> "
   ]
  },
  {
   "cell_type": "markdown",
   "metadata": {},
   "source": [
    "<h1></h1> "
   ]
  },
  {
   "cell_type": "markdown",
   "metadata": {},
   "source": [
    "<h1></h1> "
   ]
  },
  {
   "cell_type": "markdown",
   "metadata": {},
   "source": [
    "<h1></h1> "
   ]
  },
  {
   "cell_type": "markdown",
   "metadata": {},
   "source": [
    "<center> \n",
    "    <h1>KDD - Knowledge Discovery in Databases</h1> \n",
    "</center>\n",
    "\n",
    "<p align=\"center\">\n",
    "  <img src=\"https://www.researchgate.net/profile/Alex_Camargo/publication/303864815/figure/fig1/AS:371042926252032@1465474935192/Figura-1-Etapas-que-constituem-o-processo-de-KDD.png\" alt=\"\" width=\"80%\"/>\n",
    "</p>"
   ]
  },
  {
   "cell_type": "markdown",
   "metadata": {},
   "source": [
    "<h1></h1> "
   ]
  },
  {
   "cell_type": "markdown",
   "metadata": {},
   "source": [
    "<h1></h1> "
   ]
  },
  {
   "cell_type": "markdown",
   "metadata": {},
   "source": [
    "<h1></h1> "
   ]
  },
  {
   "cell_type": "markdown",
   "metadata": {},
   "source": [
    "<h1></h1> "
   ]
  },
  {
   "cell_type": "markdown",
   "metadata": {},
   "source": [
    "<center> \n",
    "    <h1>Types of ML</h1> \n",
    "</center>\n",
    "\n",
    "<p align=\"center\">\n",
    "  <img src=\"https://www.researchgate.net/profile/Mohammad_Hasan43/publication/323059283/figure/fig1/AS:603189250359296@1520822932843/Supervised-and-unsupervised-image-classification-2.png\" alt=\"\" width=\"2500px\" height=\"2500px\"/>\n",
    "</p>"
   ]
  },
  {
   "cell_type": "markdown",
   "metadata": {},
   "source": [
    "<h1></h1> "
   ]
  },
  {
   "cell_type": "markdown",
   "metadata": {},
   "source": [
    "<h1></h1> "
   ]
  },
  {
   "cell_type": "markdown",
   "metadata": {},
   "source": [
    "<h1></h1> "
   ]
  },
  {
   "cell_type": "markdown",
   "metadata": {},
   "source": [
    "<h1></h1> "
   ]
  },
  {
   "cell_type": "markdown",
   "metadata": {},
   "source": [
    "<center> \n",
    "    <h1>Supervised VS. Unsupervised - Dataset</h1> \n",
    "</center>\n",
    "\n",
    "<p align=\"center\">\n",
    "  <img src=\"https://3qeqpr26caki16dnhd19sv6by6v-wpengine.netdna-ssl.com/wp-content/uploads/2013/12/Table-of-Data-Showing-an-Instance-Feature-and-Train-Test-Datasets.png\" alt=\"\"/>\n",
    "</p>"
   ]
  },
  {
   "cell_type": "markdown",
   "metadata": {},
   "source": [
    "<h1></h1> "
   ]
  },
  {
   "cell_type": "markdown",
   "metadata": {},
   "source": [
    "<h1></h1> "
   ]
  },
  {
   "cell_type": "markdown",
   "metadata": {},
   "source": [
    "<h1></h1> "
   ]
  },
  {
   "cell_type": "markdown",
   "metadata": {},
   "source": [
    "<h1></h1> "
   ]
  },
  {
   "cell_type": "markdown",
   "metadata": {},
   "source": [
    "<center> \n",
    "    <h1>Text DataSet</h1> \n",
    "</center>\n",
    "\n",
    "<p align=\"center\">\n",
    "  <img src=\"https://i.ibb.co/jGDFbK2/Text-Image.png\" alt=\"\" width=\"95%\"/>\n",
    "</p>"
   ]
  },
  {
   "cell_type": "markdown",
   "metadata": {},
   "source": [
    "\n",
    "<h1></h1> "
   ]
  },
  {
   "cell_type": "markdown",
   "metadata": {},
   "source": [
    "<h1></h1> "
   ]
  },
  {
   "cell_type": "markdown",
   "metadata": {},
   "source": [
    "<h1></h1> "
   ]
  },
  {
   "cell_type": "markdown",
   "metadata": {},
   "source": [
    "<h1></h1> "
   ]
  },
  {
   "cell_type": "markdown",
   "metadata": {},
   "source": [
    "<center> \n",
    "    <h1>TF-IDF</h1> \n",
    "</center>\n",
    "\n",
    "<p align=\"center\">\n",
    "  <img src=\"https://mlwhiz.com/images/tfidf.png\" alt=\"\" width=\"95%\"/>\n",
    "  <h1></h1> \n",
    "  <img src=\"https://miro.medium.com/max/3604/1*qQgnyPLDIkUmeZKN2_ZWbQ.png\" alt=\"\" width=\"90%\"/>    \n",
    "</p>"
   ]
  },
  {
   "cell_type": "markdown",
   "metadata": {},
   "source": [
    "<h1></h1> "
   ]
  },
  {
   "cell_type": "markdown",
   "metadata": {},
   "source": [
    "<h1></h1> "
   ]
  },
  {
   "cell_type": "markdown",
   "metadata": {},
   "source": [
    "<h1></h1> "
   ]
  },
  {
   "cell_type": "markdown",
   "metadata": {},
   "source": [
    "<p align=\"center\">\n",
    "  <center><h1>Bayes Theorem</h1></center>\n",
    "  <img src=\"https://miro.medium.com/max/501/1*01LG7gT2bzDvEqytVnzz4g.png\" alt=\"\" width=\"70%\"/>\n",
    "  <center> <h1>Dataset</h1> </center>\n",
    "  <img src=\"https://miro.medium.com/max/205/1*qbij_0BfcL9maG_EzSWpEA.png\" alt=\"\" width=\"30%\"/>\n",
    "  <center> <h1>Frequency table</h1> </center>\n",
    "  <img src=\"https://miro.medium.com/max/234/1*2HbMiHE-DX6SEf6nyS4P9Q.png\" alt=\"\" width=\"50%\"/>\n",
    "  <center> <h1>Likelihood table is as below</h1> </center>\n",
    "  <img src=\"https://miro.medium.com/max/549/1*aoKlzTs3w5tomWWxZGr81g.png\" alt=\"\" width=\"50%\"/>\n",
    "  <center> <h1>Likelihood of Yes given Outlook Sunny is</h1> </center>\n",
    "  <img src=\"https://miro.medium.com/max/485/1*4fjWZ8KOHzSJm04F8KC4iA.png\" alt=\"\" width=\"50%\"/>\n",
    "  <center> <h1>Likelihood of No given Outlook Sunny is</h1> </center>\n",
    "  <img src=\"https://miro.medium.com/max/455/1*LjCUq1gDDNm2wBl8fNWfdA.png\" alt=\"\" width=\"50%\"/>\n",
    "</p>\n"
   ]
  },
  {
   "cell_type": "markdown",
   "metadata": {},
   "source": [
    "<h1></h1> "
   ]
  },
  {
   "cell_type": "markdown",
   "metadata": {},
   "source": [
    "<h1></h1> "
   ]
  },
  {
   "cell_type": "markdown",
   "metadata": {},
   "source": [
    "<h1></h1> "
   ]
  },
  {
   "cell_type": "markdown",
   "metadata": {},
   "source": [
    "<h1></h1> "
   ]
  },
  {
   "cell_type": "markdown",
   "metadata": {},
   "source": [
    "<h1></h1> "
   ]
  },
  {
   "cell_type": "markdown",
   "metadata": {},
   "source": [
    "<center><h1>Types of Naive Bayes Classifier:</h1></center>\n",
    "\n",
    "### Multinomial Naive Bayes: \n",
    "    Feature vectors represent the frequencies with which certain events have been generated by a multinomial distribution. This event is mainly used for document classification ((such as spam or legitimate, sports or politics, etc.)\n",
    "\n",
    "### Bernoulli Naive Bayes: \n",
    "    In the multivariate Bernoulli event model, features are independent Boolean (binary variables) describing inputs. Like the multinomial model, this model is popular for document classification tasks, where binary term occurrence (i.e. a word occurs in a document or not) features are used rather than term frequencies (i.e. frequency of a word in the document).\n",
    "\n",
    "### Gaussian Naive Bayes: \n",
    "    In Gaussian Naive Bayes, continuous values associated with each feature are assumed to be distributed according to a Gaussian distribution. A Gaussian distribution is also called Normal distribution. When plotted, it gives a bell shaped curve which is symmetric about the mean of the feature values"
   ]
  },
  {
   "cell_type": "markdown",
   "metadata": {},
   "source": [
    "<h1></h1> "
   ]
  },
  {
   "cell_type": "markdown",
   "metadata": {},
   "source": [
    "<h1></h1> "
   ]
  },
  {
   "cell_type": "markdown",
   "metadata": {},
   "source": [
    "<h1></h1> "
   ]
  },
  {
   "cell_type": "markdown",
   "metadata": {},
   "source": [
    "<h1></h1> "
   ]
  },
  {
   "cell_type": "markdown",
   "metadata": {},
   "source": [
    "<h1></h1> "
   ]
  },
  {
   "cell_type": "markdown",
   "metadata": {},
   "source": [
    "<h1></h1> "
   ]
  },
  {
   "cell_type": "markdown",
   "metadata": {},
   "source": [
    "<center> \n",
    "    <h1>\n",
    "        <a href=\"http://dados.sc.gov.br/tr/dataset/covid-19-dados-anonimizados-de-casos-confirmados/resource/76d6dfe8-7fe9-45c1-95f4-cab971803d49\">DataSet - Casos Confirmados COVID-19 </a>\n",
    "    </h1> \n",
    "    <h1>\n",
    "        <a href=\"http://dados.sc.gov.br/dataset/1ba1801e-aec0-4dba-ae2a-7732f0a0c9f7/resource/2128b7d4-7799-4306-ba47-4fcbb7c197f2/download/covid-19-casos-confirmados-dicionario-de-dados.pdf\">Metadata Dataset - Casos Confirmados COVID-19 </a>\n",
    "    </h1> \n",
    "</center>\n"
   ]
  },
  {
   "cell_type": "markdown",
   "metadata": {},
   "source": [
    "<h1></h1> "
   ]
  },
  {
   "cell_type": "markdown",
   "metadata": {},
   "source": [
    "<h1></h1> "
   ]
  },
  {
   "cell_type": "markdown",
   "metadata": {},
   "source": [
    "<h1></h1> "
   ]
  },
  {
   "cell_type": "markdown",
   "metadata": {},
   "source": [
    "<h1></h1> "
   ]
  },
  {
   "cell_type": "markdown",
   "metadata": {},
   "source": [
    "<h1></h1> "
   ]
  },
  {
   "cell_type": "markdown",
   "metadata": {},
   "source": [
    "<h1></h1> "
   ]
  },
  {
   "cell_type": "markdown",
   "metadata": {},
   "source": [
    "<h1></h1> "
   ]
  },
  {
   "cell_type": "markdown",
   "metadata": {},
   "source": [
    "<h1></h1> "
   ]
  },
  {
   "cell_type": "markdown",
   "metadata": {},
   "source": [
    "<h1></h1> "
   ]
  },
  {
   "cell_type": "code",
   "execution_count": 1,
   "metadata": {},
   "outputs": [],
   "source": [
    "import pandas as pd \n",
    "import numpy as np\n",
    "import re, nltk\n",
    "from unicodedata import normalize\n",
    "from sklearn.model_selection import train_test_split\n",
    "from sklearn.feature_extraction.text import TfidfVectorizer\n",
    "from sklearn.preprocessing import LabelEncoder\n",
    "from sklearn.naive_bayes import MultinomialNB\n",
    "from sklearn import metrics"
   ]
  },
  {
   "cell_type": "code",
   "execution_count": 2,
   "metadata": {},
   "outputs": [
    {
     "name": "stdout",
     "output_type": "stream",
     "text": [
      "Qtde de Linhas e Colunas do conjunto de dados (124313, 41)\n"
     ]
    }
   ],
   "source": [
    "dfs = pd.read_excel(\"boavista_covid_dados_abertos.xlsx\", sheet_name=\"Sheet1\")\n",
    "print(\"Qtde de Linhas e Colunas do conjunto de dados\",dfs.shape)"
   ]
  },
  {
   "cell_type": "code",
   "execution_count": 3,
   "metadata": {},
   "outputs": [
    {
     "data": {
      "text/html": [
       "<div>\n",
       "<style scoped>\n",
       "    .dataframe tbody tr th:only-of-type {\n",
       "        vertical-align: middle;\n",
       "    }\n",
       "\n",
       "    .dataframe tbody tr th {\n",
       "        vertical-align: top;\n",
       "    }\n",
       "\n",
       "    .dataframe thead th {\n",
       "        text-align: right;\n",
       "    }\n",
       "</style>\n",
       "<table border=\"1\" class=\"dataframe\">\n",
       "  <thead>\n",
       "    <tr style=\"text-align: right;\">\n",
       "      <th></th>\n",
       "      <th>index</th>\n",
       "      <th>data_publicacao</th>\n",
       "      <th>recuperados</th>\n",
       "      <th>data_inicio_sintomas</th>\n",
       "      <th>data_coleta</th>\n",
       "      <th>sintomas</th>\n",
       "      <th>comorbidades</th>\n",
       "      <th>gestante</th>\n",
       "      <th>internacao</th>\n",
       "      <th>internacao_uti</th>\n",
       "      <th>...</th>\n",
       "      <th>origem_laboratorio_privado</th>\n",
       "      <th>nom_laboratorio</th>\n",
       "      <th>fez_teste_rapido</th>\n",
       "      <th>fez_pcr</th>\n",
       "      <th>data_internacao</th>\n",
       "      <th>data_entrada_uti</th>\n",
       "      <th>regional_saude</th>\n",
       "      <th>data_evolucao_caso</th>\n",
       "      <th>data_saida_uti</th>\n",
       "      <th>bairro</th>\n",
       "    </tr>\n",
       "  </thead>\n",
       "  <tbody>\n",
       "    <tr>\n",
       "      <th>0</th>\n",
       "      <td>37</td>\n",
       "      <td>2020-08-18 16:00:10</td>\n",
       "      <td>NAO</td>\n",
       "      <td>2020-07-29</td>\n",
       "      <td>2020-08-09 00:00:00</td>\n",
       "      <td>DISPNEIA</td>\n",
       "      <td>DOENCA CARDIOVASCULAR CRONICA, DIABETES</td>\n",
       "      <td>NaN</td>\n",
       "      <td>INTERNADO</td>\n",
       "      <td>INTERNADO UTI</td>\n",
       "      <td>...</td>\n",
       "      <td>NAO</td>\n",
       "      <td>NaN</td>\n",
       "      <td>NAO</td>\n",
       "      <td>NAO</td>\n",
       "      <td>2020-08-09</td>\n",
       "      <td>2020-08-09</td>\n",
       "      <td>FOZ DO RIO ITAJAI</td>\n",
       "      <td>NaT</td>\n",
       "      <td>NaT</td>\n",
       "      <td>CORDEIROS</td>\n",
       "    </tr>\n",
       "    <tr>\n",
       "      <th>1</th>\n",
       "      <td>48</td>\n",
       "      <td>2020-08-18 16:00:10</td>\n",
       "      <td>NAO</td>\n",
       "      <td>2020-05-10</td>\n",
       "      <td>2020-05-15 00:00:00</td>\n",
       "      <td>DISPNEIA, FEBRE</td>\n",
       "      <td>DOENCA CARDIOVASCULAR CRONICA, DOENCA NEUROLOG...</td>\n",
       "      <td>NaN</td>\n",
       "      <td>INTERNADO</td>\n",
       "      <td>NAO INTERNADO UTI</td>\n",
       "      <td>...</td>\n",
       "      <td>NAO</td>\n",
       "      <td>LACEN</td>\n",
       "      <td>NAO</td>\n",
       "      <td>SIM</td>\n",
       "      <td>2020-05-15</td>\n",
       "      <td>NaT</td>\n",
       "      <td>OESTE</td>\n",
       "      <td>2020-05-18</td>\n",
       "      <td>NaT</td>\n",
       "      <td>EFAPI</td>\n",
       "    </tr>\n",
       "    <tr>\n",
       "      <th>2</th>\n",
       "      <td>124</td>\n",
       "      <td>2020-08-18 16:00:10</td>\n",
       "      <td>SIM</td>\n",
       "      <td>2020-06-12</td>\n",
       "      <td>2020-06-12 00:00:00</td>\n",
       "      <td>TOSSE, DISPNEIA</td>\n",
       "      <td>DIABETES</td>\n",
       "      <td>NaN</td>\n",
       "      <td>INTERNADO</td>\n",
       "      <td>NAO INTERNADO UTI</td>\n",
       "      <td>...</td>\n",
       "      <td>NAO</td>\n",
       "      <td>NaN</td>\n",
       "      <td>NAO</td>\n",
       "      <td>NAO</td>\n",
       "      <td>2020-06-12</td>\n",
       "      <td>NaT</td>\n",
       "      <td>FOZ DO RIO ITAJAI</td>\n",
       "      <td>NaT</td>\n",
       "      <td>NaT</td>\n",
       "      <td>NaN</td>\n",
       "    </tr>\n",
       "    <tr>\n",
       "      <th>3</th>\n",
       "      <td>142</td>\n",
       "      <td>2020-08-18 16:00:10</td>\n",
       "      <td>SIM</td>\n",
       "      <td>2020-06-25</td>\n",
       "      <td>2020-06-30 00:00:00</td>\n",
       "      <td>TOSSE, DISPNEIA, FEBRE</td>\n",
       "      <td>DOENCA NEUROLOGICA CRONICA</td>\n",
       "      <td>NaN</td>\n",
       "      <td>INTERNADO</td>\n",
       "      <td>NAO INTERNADO UTI</td>\n",
       "      <td>...</td>\n",
       "      <td>SIM</td>\n",
       "      <td>NUCLEO ATENDIMENTO PRAIA BRAVA PB</td>\n",
       "      <td>NAO</td>\n",
       "      <td>SIM</td>\n",
       "      <td>2020-06-30</td>\n",
       "      <td>NaT</td>\n",
       "      <td>FOZ DO RIO ITAJAI</td>\n",
       "      <td>2020-07-17</td>\n",
       "      <td>NaT</td>\n",
       "      <td>NaN</td>\n",
       "    </tr>\n",
       "    <tr>\n",
       "      <th>4</th>\n",
       "      <td>168</td>\n",
       "      <td>2020-08-18 16:00:10</td>\n",
       "      <td>NAO</td>\n",
       "      <td>2020-07-25</td>\n",
       "      <td>2020-07-30 00:00:00</td>\n",
       "      <td>TOSSE, DISPNEIA, FEBRE</td>\n",
       "      <td>DOENCA CARDIOVASCULAR CRONICA, DIABETES, DOENC...</td>\n",
       "      <td>NaN</td>\n",
       "      <td>INTERNADO</td>\n",
       "      <td>INTERNADO UTI</td>\n",
       "      <td>...</td>\n",
       "      <td>NAO</td>\n",
       "      <td>NaN</td>\n",
       "      <td>SIM</td>\n",
       "      <td>NAO</td>\n",
       "      <td>2020-08-10</td>\n",
       "      <td>2020-08-11</td>\n",
       "      <td>EXTREMO SUL CATARINENSE</td>\n",
       "      <td>2020-08-13</td>\n",
       "      <td>2020-08-13</td>\n",
       "      <td>NaN</td>\n",
       "    </tr>\n",
       "  </tbody>\n",
       "</table>\n",
       "<p>5 rows × 42 columns</p>\n",
       "</div>"
      ],
      "text/plain": [
       "   index     data_publicacao recuperados data_inicio_sintomas  \\\n",
       "0     37 2020-08-18 16:00:10         NAO           2020-07-29   \n",
       "1     48 2020-08-18 16:00:10         NAO           2020-05-10   \n",
       "2    124 2020-08-18 16:00:10         SIM           2020-06-12   \n",
       "3    142 2020-08-18 16:00:10         SIM           2020-06-25   \n",
       "4    168 2020-08-18 16:00:10         NAO           2020-07-25   \n",
       "\n",
       "           data_coleta                sintomas  \\\n",
       "0  2020-08-09 00:00:00                DISPNEIA   \n",
       "1  2020-05-15 00:00:00         DISPNEIA, FEBRE   \n",
       "2  2020-06-12 00:00:00         TOSSE, DISPNEIA   \n",
       "3  2020-06-30 00:00:00  TOSSE, DISPNEIA, FEBRE   \n",
       "4  2020-07-30 00:00:00  TOSSE, DISPNEIA, FEBRE   \n",
       "\n",
       "                                        comorbidades gestante internacao  \\\n",
       "0            DOENCA CARDIOVASCULAR CRONICA, DIABETES      NaN  INTERNADO   \n",
       "1  DOENCA CARDIOVASCULAR CRONICA, DOENCA NEUROLOG...      NaN  INTERNADO   \n",
       "2                                           DIABETES      NaN  INTERNADO   \n",
       "3                         DOENCA NEUROLOGICA CRONICA      NaN  INTERNADO   \n",
       "4  DOENCA CARDIOVASCULAR CRONICA, DIABETES, DOENC...      NaN  INTERNADO   \n",
       "\n",
       "      internacao_uti    ...     origem_laboratorio_privado  \\\n",
       "0      INTERNADO UTI    ...                            NAO   \n",
       "1  NAO INTERNADO UTI    ...                            NAO   \n",
       "2  NAO INTERNADO UTI    ...                            NAO   \n",
       "3  NAO INTERNADO UTI    ...                            SIM   \n",
       "4      INTERNADO UTI    ...                            NAO   \n",
       "\n",
       "                     nom_laboratorio fez_teste_rapido fez_pcr  \\\n",
       "0                                NaN              NAO     NAO   \n",
       "1                              LACEN              NAO     SIM   \n",
       "2                                NaN              NAO     NAO   \n",
       "3  NUCLEO ATENDIMENTO PRAIA BRAVA PB              NAO     SIM   \n",
       "4                                NaN              SIM     NAO   \n",
       "\n",
       "   data_internacao data_entrada_uti           regional_saude  \\\n",
       "0       2020-08-09       2020-08-09        FOZ DO RIO ITAJAI   \n",
       "1       2020-05-15              NaT                    OESTE   \n",
       "2       2020-06-12              NaT        FOZ DO RIO ITAJAI   \n",
       "3       2020-06-30              NaT        FOZ DO RIO ITAJAI   \n",
       "4       2020-08-10       2020-08-11  EXTREMO SUL CATARINENSE   \n",
       "\n",
       "  data_evolucao_caso  data_saida_uti     bairro  \n",
       "0                NaT             NaT  CORDEIROS  \n",
       "1         2020-05-18             NaT      EFAPI  \n",
       "2                NaT             NaT        NaN  \n",
       "3         2020-07-17             NaT        NaN  \n",
       "4         2020-08-13      2020-08-13        NaN  \n",
       "\n",
       "[5 rows x 42 columns]"
      ]
     },
     "execution_count": 3,
     "metadata": {},
     "output_type": "execute_result"
    }
   ],
   "source": [
    "dfs=dfs[ dfs.sintomas.notnull() & dfs.comorbidades.notnull()].reset_index()\n",
    "dfs.head()"
   ]
  },
  {
   "cell_type": "code",
   "execution_count": 4,
   "metadata": {},
   "outputs": [
    {
     "data": {
      "text/html": [
       "<div>\n",
       "<style scoped>\n",
       "    .dataframe tbody tr th:only-of-type {\n",
       "        vertical-align: middle;\n",
       "    }\n",
       "\n",
       "    .dataframe tbody tr th {\n",
       "        vertical-align: top;\n",
       "    }\n",
       "\n",
       "    .dataframe thead th {\n",
       "        text-align: right;\n",
       "    }\n",
       "</style>\n",
       "<table border=\"1\" class=\"dataframe\">\n",
       "  <thead>\n",
       "    <tr style=\"text-align: right;\">\n",
       "      <th></th>\n",
       "      <th>All</th>\n",
       "      <th>sintomas</th>\n",
       "      <th>comorbidades</th>\n",
       "    </tr>\n",
       "  </thead>\n",
       "  <tbody>\n",
       "    <tr>\n",
       "      <th>0</th>\n",
       "      <td>dispne, doenc_cardiovascul_cron, diabet</td>\n",
       "      <td>DISPNEIA</td>\n",
       "      <td>DOENCA CARDIOVASCULAR CRONICA, DIABETES</td>\n",
       "    </tr>\n",
       "    <tr>\n",
       "      <th>1</th>\n",
       "      <td>dispne, febr, doenc_cardiovascul_cron, doenc_n...</td>\n",
       "      <td>DISPNEIA, FEBRE</td>\n",
       "      <td>DOENCA CARDIOVASCULAR CRONICA, DOENCA NEUROLOG...</td>\n",
       "    </tr>\n",
       "    <tr>\n",
       "      <th>2</th>\n",
       "      <td>toss, dispne, diabet</td>\n",
       "      <td>TOSSE, DISPNEIA</td>\n",
       "      <td>DIABETES</td>\n",
       "    </tr>\n",
       "    <tr>\n",
       "      <th>3</th>\n",
       "      <td>toss, dispne, febr, doenc_neurolog_cron</td>\n",
       "      <td>TOSSE, DISPNEIA, FEBRE</td>\n",
       "      <td>DOENCA NEUROLOGICA CRONICA</td>\n",
       "    </tr>\n",
       "    <tr>\n",
       "      <th>4</th>\n",
       "      <td>toss, dispne, febr, doenc_cardiovascul_cron, d...</td>\n",
       "      <td>TOSSE, DISPNEIA, FEBRE</td>\n",
       "      <td>DOENCA CARDIOVASCULAR CRONICA, DIABETES, DOENC...</td>\n",
       "    </tr>\n",
       "  </tbody>\n",
       "</table>\n",
       "</div>"
      ],
      "text/plain": [
       "                                                 All                sintomas  \\\n",
       "0            dispne, doenc_cardiovascul_cron, diabet                DISPNEIA   \n",
       "1  dispne, febr, doenc_cardiovascul_cron, doenc_n...         DISPNEIA, FEBRE   \n",
       "2                               toss, dispne, diabet         TOSSE, DISPNEIA   \n",
       "3            toss, dispne, febr, doenc_neurolog_cron  TOSSE, DISPNEIA, FEBRE   \n",
       "4  toss, dispne, febr, doenc_cardiovascul_cron, d...  TOSSE, DISPNEIA, FEBRE   \n",
       "\n",
       "                                        comorbidades  \n",
       "0            DOENCA CARDIOVASCULAR CRONICA, DIABETES  \n",
       "1  DOENCA CARDIOVASCULAR CRONICA, DOENCA NEUROLOG...  \n",
       "2                                           DIABETES  \n",
       "3                         DOENCA NEUROLOGICA CRONICA  \n",
       "4  DOENCA CARDIOVASCULAR CRONICA, DIABETES, DOENC...  "
      ]
     },
     "execution_count": 4,
     "metadata": {},
     "output_type": "execute_result"
    }
   ],
   "source": [
    "stopwordsp = nltk.corpus.stopwords.words('portuguese')\n",
    "stemmer = nltk.stem.RSLPStemmer()\n",
    "\n",
    "def remover_acentos(txt):\n",
    "    txt=normalize('NFKD', txt).encode('ASCII', 'ignore').decode('ASCII')\n",
    "    txt=re.sub('[^A-Za-z0-9 -,]+', '', txt).strip()\n",
    "    return txt\n",
    "\n",
    "def ProcessaDados(phrase):\n",
    "    phrase=remover_acentos(phrase) #remove acentos \n",
    "    re.sub('[0-9]|,|\\.|/|$|\\(|\\)|-|\\+|:|•', ' ', phrase) #remove números e caracteres especiais \n",
    "    re.sub(' +', ' ', phrase) # remove espaços duplos\n",
    "    Return_Word=[]\n",
    "    for word_list in phrase.lower().strip().split(\",\"):\n",
    "        tmp=[stemmer.stem(word.strip()) for word in word_list.strip().split(\" \") if word not in stopwordsp and len(word)>2]\n",
    "        Return_Word.append(\"_\".join(tmp))\n",
    "    return \", \".join(Return_Word).strip()\n",
    "\n",
    "dfs[\"All\"]=dfs.sintomas.map(str) + \", \"+ dfs.comorbidades.map(str)\n",
    "\n",
    "dfs[\"All\"]=dfs[\"All\"].apply(lambda x: ProcessaDados(x))\n",
    "\n",
    "# dfs = dfs.drop_duplicates(subset=[\"All\",\"internacao_uti\"], keep='first')\n",
    "\n",
    "dfs[[\"All\",\"sintomas\",\"comorbidades\"]].head()"
   ]
  },
  {
   "cell_type": "code",
   "execution_count": 5,
   "metadata": {},
   "outputs": [
    {
     "name": "stdout",
     "output_type": "stream",
     "text": [
      "Dataset\n",
      "Qtde Linhas 3904\n",
      "1386        0.36%\n",
      "2518        0.64%\n"
     ]
    },
    {
     "data": {
      "text/html": [
       "<div>\n",
       "<style scoped>\n",
       "    .dataframe tbody tr th:only-of-type {\n",
       "        vertical-align: middle;\n",
       "    }\n",
       "\n",
       "    .dataframe tbody tr th {\n",
       "        vertical-align: top;\n",
       "    }\n",
       "\n",
       "    .dataframe thead th {\n",
       "        text-align: right;\n",
       "    }\n",
       "</style>\n",
       "<table border=\"1\" class=\"dataframe\">\n",
       "  <thead>\n",
       "    <tr style=\"text-align: right;\">\n",
       "      <th></th>\n",
       "      <th>All</th>\n",
       "      <th>internacao_uti</th>\n",
       "      <th>InternacaoUTIEncoded</th>\n",
       "    </tr>\n",
       "  </thead>\n",
       "  <tbody>\n",
       "    <tr>\n",
       "      <th>0</th>\n",
       "      <td>dispne, doenc_cardiovascul_cron, diabet</td>\n",
       "      <td>INTERNADO UTI</td>\n",
       "      <td>0</td>\n",
       "    </tr>\n",
       "    <tr>\n",
       "      <th>1</th>\n",
       "      <td>dispne, febr, doenc_cardiovascul_cron, doenc_n...</td>\n",
       "      <td>NAO INTERNADO UTI</td>\n",
       "      <td>1</td>\n",
       "    </tr>\n",
       "    <tr>\n",
       "      <th>2</th>\n",
       "      <td>toss, dispne, diabet</td>\n",
       "      <td>NAO INTERNADO UTI</td>\n",
       "      <td>1</td>\n",
       "    </tr>\n",
       "    <tr>\n",
       "      <th>3</th>\n",
       "      <td>toss, dispne, febr, doenc_neurolog_cron</td>\n",
       "      <td>NAO INTERNADO UTI</td>\n",
       "      <td>1</td>\n",
       "    </tr>\n",
       "    <tr>\n",
       "      <th>4</th>\n",
       "      <td>toss, dispne, febr, doenc_cardiovascul_cron, d...</td>\n",
       "      <td>INTERNADO UTI</td>\n",
       "      <td>0</td>\n",
       "    </tr>\n",
       "  </tbody>\n",
       "</table>\n",
       "</div>"
      ],
      "text/plain": [
       "                                                 All     internacao_uti  \\\n",
       "0            dispne, doenc_cardiovascul_cron, diabet      INTERNADO UTI   \n",
       "1  dispne, febr, doenc_cardiovascul_cron, doenc_n...  NAO INTERNADO UTI   \n",
       "2                               toss, dispne, diabet  NAO INTERNADO UTI   \n",
       "3            toss, dispne, febr, doenc_neurolog_cron  NAO INTERNADO UTI   \n",
       "4  toss, dispne, febr, doenc_cardiovascul_cron, d...      INTERNADO UTI   \n",
       "\n",
       "   InternacaoUTIEncoded  \n",
       "0                     0  \n",
       "1                     1  \n",
       "2                     1  \n",
       "3                     1  \n",
       "4                     0  "
      ]
     },
     "execution_count": 5,
     "metadata": {},
     "output_type": "execute_result"
    }
   ],
   "source": [
    "le = LabelEncoder()\n",
    "le.fit(dfs.internacao_uti)\n",
    "dfs.loc[:, 'InternacaoUTIEncoded'] = le.transform(dfs.internacao_uti)\n",
    "\n",
    "print(\"Dataset\")\n",
    "print(\"Qtde Linhas {}\".format(dfs.shape[0])) \n",
    "print(\"{}  {:10.2f}%\".format(dfs.InternacaoUTIEncoded.value_counts()[0], dfs.InternacaoUTIEncoded.value_counts()[0]/dfs.shape[0]))\n",
    "print(\"{}  {:10.2f}%\".format(dfs.InternacaoUTIEncoded.value_counts()[1], dfs.InternacaoUTIEncoded.value_counts()[1]/dfs.shape[0]))\n",
    "dfs[[\"All\",\"internacao_uti\",\"InternacaoUTIEncoded\",]].head()\n"
   ]
  },
  {
   "cell_type": "code",
   "execution_count": 6,
   "metadata": {},
   "outputs": [
    {
     "data": {
      "text/html": [
       "<div>\n",
       "<style scoped>\n",
       "    .dataframe tbody tr th:only-of-type {\n",
       "        vertical-align: middle;\n",
       "    }\n",
       "\n",
       "    .dataframe tbody tr th {\n",
       "        vertical-align: top;\n",
       "    }\n",
       "\n",
       "    .dataframe thead th {\n",
       "        text-align: right;\n",
       "    }\n",
       "</style>\n",
       "<table border=\"1\" class=\"dataframe\">\n",
       "  <thead>\n",
       "    <tr style=\"text-align: right;\">\n",
       "      <th></th>\n",
       "      <th>asm</th>\n",
       "      <th>canc</th>\n",
       "      <th>cansac</th>\n",
       "      <th>cefale</th>\n",
       "      <th>congesta_nasal</th>\n",
       "      <th>coriz</th>\n",
       "      <th>diabet</th>\n",
       "      <th>diarre</th>\n",
       "      <th>dispne</th>\n",
       "      <th>doenc_cardiovascul_cron</th>\n",
       "      <th>...</th>\n",
       "      <th>doenc_renal_cron</th>\n",
       "      <th>dor_corp</th>\n",
       "      <th>dor_gargant</th>\n",
       "      <th>febr</th>\n",
       "      <th>hipertensa</th>\n",
       "      <th>imunodepressa</th>\n",
       "      <th>mialg</th>\n",
       "      <th>obes</th>\n",
       "      <th>sindrom_down</th>\n",
       "      <th>toss</th>\n",
       "    </tr>\n",
       "  </thead>\n",
       "  <tbody>\n",
       "    <tr>\n",
       "      <th>0</th>\n",
       "      <td>0.0</td>\n",
       "      <td>0.0</td>\n",
       "      <td>0.0</td>\n",
       "      <td>0.0</td>\n",
       "      <td>0.0</td>\n",
       "      <td>0.0</td>\n",
       "      <td>0.692006</td>\n",
       "      <td>0.0</td>\n",
       "      <td>0.439033</td>\n",
       "      <td>0.573043</td>\n",
       "      <td>...</td>\n",
       "      <td>0.0</td>\n",
       "      <td>0.0</td>\n",
       "      <td>0.0</td>\n",
       "      <td>0.000000</td>\n",
       "      <td>0.0</td>\n",
       "      <td>0.0</td>\n",
       "      <td>0.0</td>\n",
       "      <td>0.000000</td>\n",
       "      <td>0.0</td>\n",
       "      <td>0.000000</td>\n",
       "    </tr>\n",
       "    <tr>\n",
       "      <th>1</th>\n",
       "      <td>0.0</td>\n",
       "      <td>0.0</td>\n",
       "      <td>0.0</td>\n",
       "      <td>0.0</td>\n",
       "      <td>0.0</td>\n",
       "      <td>0.0</td>\n",
       "      <td>0.000000</td>\n",
       "      <td>0.0</td>\n",
       "      <td>0.271628</td>\n",
       "      <td>0.354539</td>\n",
       "      <td>...</td>\n",
       "      <td>0.0</td>\n",
       "      <td>0.0</td>\n",
       "      <td>0.0</td>\n",
       "      <td>0.315605</td>\n",
       "      <td>0.0</td>\n",
       "      <td>0.0</td>\n",
       "      <td>0.0</td>\n",
       "      <td>0.000000</td>\n",
       "      <td>0.0</td>\n",
       "      <td>0.000000</td>\n",
       "    </tr>\n",
       "    <tr>\n",
       "      <th>2</th>\n",
       "      <td>0.0</td>\n",
       "      <td>0.0</td>\n",
       "      <td>0.0</td>\n",
       "      <td>0.0</td>\n",
       "      <td>0.0</td>\n",
       "      <td>0.0</td>\n",
       "      <td>0.738702</td>\n",
       "      <td>0.0</td>\n",
       "      <td>0.468658</td>\n",
       "      <td>0.000000</td>\n",
       "      <td>...</td>\n",
       "      <td>0.0</td>\n",
       "      <td>0.0</td>\n",
       "      <td>0.0</td>\n",
       "      <td>0.000000</td>\n",
       "      <td>0.0</td>\n",
       "      <td>0.0</td>\n",
       "      <td>0.0</td>\n",
       "      <td>0.000000</td>\n",
       "      <td>0.0</td>\n",
       "      <td>0.484436</td>\n",
       "    </tr>\n",
       "    <tr>\n",
       "      <th>3</th>\n",
       "      <td>0.0</td>\n",
       "      <td>0.0</td>\n",
       "      <td>0.0</td>\n",
       "      <td>0.0</td>\n",
       "      <td>0.0</td>\n",
       "      <td>0.0</td>\n",
       "      <td>0.000000</td>\n",
       "      <td>0.0</td>\n",
       "      <td>0.278226</td>\n",
       "      <td>0.000000</td>\n",
       "      <td>...</td>\n",
       "      <td>0.0</td>\n",
       "      <td>0.0</td>\n",
       "      <td>0.0</td>\n",
       "      <td>0.323271</td>\n",
       "      <td>0.0</td>\n",
       "      <td>0.0</td>\n",
       "      <td>0.0</td>\n",
       "      <td>0.000000</td>\n",
       "      <td>0.0</td>\n",
       "      <td>0.287592</td>\n",
       "    </tr>\n",
       "    <tr>\n",
       "      <th>4</th>\n",
       "      <td>0.0</td>\n",
       "      <td>0.0</td>\n",
       "      <td>0.0</td>\n",
       "      <td>0.0</td>\n",
       "      <td>0.0</td>\n",
       "      <td>0.0</td>\n",
       "      <td>0.328145</td>\n",
       "      <td>0.0</td>\n",
       "      <td>0.208187</td>\n",
       "      <td>0.271734</td>\n",
       "      <td>...</td>\n",
       "      <td>0.0</td>\n",
       "      <td>0.0</td>\n",
       "      <td>0.0</td>\n",
       "      <td>0.241893</td>\n",
       "      <td>0.0</td>\n",
       "      <td>0.0</td>\n",
       "      <td>0.0</td>\n",
       "      <td>0.508507</td>\n",
       "      <td>0.0</td>\n",
       "      <td>0.215196</td>\n",
       "    </tr>\n",
       "  </tbody>\n",
       "</table>\n",
       "<p>5 rows × 24 columns</p>\n",
       "</div>"
      ],
      "text/plain": [
       "   asm  canc  cansac  cefale  congesta_nasal  coriz    diabet  diarre  \\\n",
       "0  0.0   0.0     0.0     0.0             0.0    0.0  0.692006     0.0   \n",
       "1  0.0   0.0     0.0     0.0             0.0    0.0  0.000000     0.0   \n",
       "2  0.0   0.0     0.0     0.0             0.0    0.0  0.738702     0.0   \n",
       "3  0.0   0.0     0.0     0.0             0.0    0.0  0.000000     0.0   \n",
       "4  0.0   0.0     0.0     0.0             0.0    0.0  0.328145     0.0   \n",
       "\n",
       "     dispne  doenc_cardiovascul_cron    ...     doenc_renal_cron  dor_corp  \\\n",
       "0  0.439033                 0.573043    ...                  0.0       0.0   \n",
       "1  0.271628                 0.354539    ...                  0.0       0.0   \n",
       "2  0.468658                 0.000000    ...                  0.0       0.0   \n",
       "3  0.278226                 0.000000    ...                  0.0       0.0   \n",
       "4  0.208187                 0.271734    ...                  0.0       0.0   \n",
       "\n",
       "   dor_gargant      febr  hipertensa  imunodepressa  mialg      obes  \\\n",
       "0          0.0  0.000000         0.0            0.0    0.0  0.000000   \n",
       "1          0.0  0.315605         0.0            0.0    0.0  0.000000   \n",
       "2          0.0  0.000000         0.0            0.0    0.0  0.000000   \n",
       "3          0.0  0.323271         0.0            0.0    0.0  0.000000   \n",
       "4          0.0  0.241893         0.0            0.0    0.0  0.508507   \n",
       "\n",
       "   sindrom_down      toss  \n",
       "0           0.0  0.000000  \n",
       "1           0.0  0.000000  \n",
       "2           0.0  0.484436  \n",
       "3           0.0  0.287592  \n",
       "4           0.0  0.215196  \n",
       "\n",
       "[5 rows x 24 columns]"
      ]
     },
     "execution_count": 6,
     "metadata": {},
     "output_type": "execute_result"
    }
   ],
   "source": [
    "## TF-IDF\n",
    "vectorizer = TfidfVectorizer()\n",
    "vectorizer.fit(dfs.All)\n",
    "text = vectorizer.transform(dfs.All)\n",
    "\n",
    "pd.DataFrame(text.toarray(), columns=vectorizer.get_feature_names()).head()"
   ]
  },
  {
   "cell_type": "code",
   "execution_count": 7,
   "metadata": {},
   "outputs": [
    {
     "name": "stdout",
     "output_type": "stream",
     "text": [
      "Accuracy: 0.6331058020477816\n",
      "Precision: 0.638986013986014\n"
     ]
    }
   ],
   "source": [
    "## create the Model.\n",
    "X_train, X_test, y_train, y_test = train_test_split(text, dfs.InternacaoUTIEncoded, test_size=0.3, random_state=42)\n",
    "clf = MultinomialNB().fit(X_train, y_train) # Model Generation Using Multinomial Naive Bayes\n",
    "predicted= clf.predict(X_test)\n",
    "\n",
    "# Checking the metrics.\n",
    "print(\"Accuracy:\",metrics.accuracy_score(y_test, predicted))\n",
    "print(\"Precision:\",metrics.precision_score(y_test, predicted))"
   ]
  },
  {
   "cell_type": "markdown",
   "metadata": {},
   "source": [
    "<p align=\"center\">\n",
    "  <img src=\"https://www.researchgate.net/profile/Roberto_Cameriere/publication/24399044/figure/fig1/AS:601590197145611@1520441688596/Target-analogy-of-accuracy-and-precision.png\" alt=\"\" width=\"40%\"/>\n",
    "</p>"
   ]
  },
  {
   "cell_type": "code",
   "execution_count": 8,
   "metadata": {},
   "outputs": [
    {
     "data": {
      "text/plain": [
       "'NAO INTERNADO UTI'"
      ]
     },
     "execution_count": 8,
     "metadata": {},
     "output_type": "execute_result"
    }
   ],
   "source": [
    "# Test the model with new input....\n",
    "NewText = vectorizer.transform([\"dispneia, febre, doenca cardiovascular cronica, doenca neurolog\"])\n",
    "predicted=clf.predict(NewText)\n",
    "le.inverse_transform(predicted).tolist()[0]"
   ]
  },
  {
   "cell_type": "code",
   "execution_count": null,
   "metadata": {},
   "outputs": [],
   "source": []
  }
 ],
 "metadata": {
  "kernelspec": {
   "display_name": "Python 3",
   "language": "python",
   "name": "python3"
  },
  "language_info": {
   "codemirror_mode": {
    "name": "ipython",
    "version": 3
   },
   "file_extension": ".py",
   "mimetype": "text/x-python",
   "name": "python",
   "nbconvert_exporter": "python",
   "pygments_lexer": "ipython3",
   "version": "3.7.0"
  }
 },
 "nbformat": 4,
 "nbformat_minor": 2
}
